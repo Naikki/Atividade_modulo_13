{
  "nbformat": 4,
  "nbformat_minor": 0,
  "metadata": {
    "colab": {
      "provenance": [],
      "authorship_tag": "ABX9TyOsRzjvSa4Riz8xCIQ5/PII",
      "include_colab_link": true
    },
    "kernelspec": {
      "name": "python3",
      "display_name": "Python 3"
    },
    "language_info": {
      "name": "python"
    }
  },
  "cells": [
    {
      "cell_type": "markdown",
      "metadata": {
        "id": "view-in-github",
        "colab_type": "text"
      },
      "source": [
        "<a href=\"https://colab.research.google.com/github/Naikki/Atividade_modulo_13/blob/main/Atividade_modulo_13.ipynb\" target=\"_parent\"><img src=\"https://colab.research.google.com/assets/colab-badge.svg\" alt=\"Open In Colab\"/></a>"
      ]
    },
    {
      "cell_type": "code",
      "source": [
        "pip install pandas"
      ],
      "metadata": {
        "id": "9PVz4JGIiFSs"
      },
      "execution_count": null,
      "outputs": []
    },
    {
      "cell_type": "markdown",
      "source": [
        "# 1 -> Análise estatística por categoria"
      ],
      "metadata": {
        "id": "XtvMVcNQjM9d"
      }
    },
    {
      "cell_type": "code",
      "execution_count": null,
      "metadata": {
        "id": "1To1bl_7h5Vq"
      },
      "outputs": [],
      "source": [
        "import pandas as pd\n",
        "import numpy as np\n",
        "import matplotlib.pyplot as plt\n",
        "import seaborn as sns\n",
        "\n",
        "\n",
        "df = pd.read_csv('MODULO7_PROJETOFINAL_BASE_SUPERMERCADO - MODULO7_PROJETOFINAL_BASE_SUPERMERCADO (1).csv')\n",
        "\n",
        "\n",
        "df['Preco_Normal'] = pd.to_numeric(df['Preco_Normal'], errors='coerce')\n",
        "df.dropna(subset=['Preco_Normal'], inplace=True)\n",
        "\n",
        "# Cálculo de média e mediana por categoria\n",
        "stats_categoria = df.groupby('Categoria')['Preco_Normal'].agg(['mean', 'median', 'std']).reset_index()\n",
        "stats_categoria.columns = ['Categoria', 'Média', 'Mediana', 'Desvio_Padrão']\n",
        "\n",
        "# Identificar categorias com média acima/abaixo da mediana geral\n",
        "mediana_geral = df['Preco_Normal'].median()\n",
        "stats_categoria['Posição_Relativa'] = np.where(\n",
        "    stats_categoria['Média'] > mediana_geral,\n",
        "    'Acima da Mediana Geral',\n",
        "    'Abaixo da Mediana Geral'\n",
        ")\n",
        "\n",
        "print(\"Estatísticas por Categoria:\")\n",
        "print(stats_categoria.sort_values('Média', ascending=False))"
      ]
    },
    {
      "cell_type": "markdown",
      "source": [
        "# 2 -> Boxplot para a categoria com maior desvio padrão"
      ],
      "metadata": {
        "id": "J1gw_ikrjjOD"
      }
    },
    {
      "cell_type": "code",
      "source": [
        "# Categoria com maior desvio padrão\n",
        "categoria_maior_dp = stats_categoria.loc[stats_categoria['Desvio_Padrão'].idxmax(), 'Categoria']\n",
        "\n",
        "plt.figure(figsize=(10, 6))\n",
        "sns.boxplot(data=df[df['Categoria'] == categoria_maior_dp],\n",
        "            y='Preco_Normal',\n",
        "            x='Categoria')\n",
        "plt.title(f'Distribuição de Preços para {categoria_maior_dp} (Maior Desvio Padrão)')\n",
        "plt.ylabel('Preço Normal')\n",
        "plt.xlabel('')\n",
        "plt.show()"
      ],
      "metadata": {
        "id": "uf97U-q_j1zb"
      },
      "execution_count": null,
      "outputs": []
    },
    {
      "cell_type": "markdown",
      "source": [
        "# 3 -> Gráfico de barras com a Média de descontos por categoria"
      ],
      "metadata": {
        "id": "Q7PqSDGHkj58"
      }
    },
    {
      "cell_type": "code",
      "source": [
        "# Calcular média de desconto por categoria (PS: o desconto está sendo ilustrado pelo símbolo \"%\")\n",
        "df['Valor_Desconto'] = df['Preco_Normal'] * (df['Desconto'] / 100)\n",
        "media_desconto = df.groupby('Categoria')['Valor_Desconto'].mean().reset_index()\n",
        "\n",
        "plt.figure(figsize=(12, 6))\n",
        "sns.barplot(data=media_desconto.sort_values('Valor_Desconto', ascending=False),\n",
        "            x='Categoria',\n",
        "            y='Valor_Desconto',\n",
        "            palette='viridis')\n",
        "plt.title('Média de Valor de Desconto por Categoria')\n",
        "plt.ylabel('Média de Desconto (em valor absoluto)')\n",
        "plt.xlabel('Categoria')\n",
        "plt.xticks(rotation=45)\n",
        "plt.show()"
      ],
      "metadata": {
        "id": "GZG6ONd6kt0K"
      },
      "execution_count": null,
      "outputs": []
    }
  ]
}